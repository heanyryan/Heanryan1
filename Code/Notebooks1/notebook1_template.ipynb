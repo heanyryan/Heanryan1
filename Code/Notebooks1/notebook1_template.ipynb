{
 "cells": [
  {
   "cell_type": "markdown",
   "id": "16ac2cfe-5598-47ad-982e-628834472787",
   "metadata": {},
   "source": [
    "## project name"
   ]
  },
  {
   "cell_type": "markdown",
   "id": "3af0633e-10a7-4433-8424-073decf890b3",
   "metadata": {},
   "source": [
    "** author: ** Ryan Heany \n",
    "** Last Modified:** 11-14-2024 (created: 11-14-24)\n",
    "\n",
    "** Description:** short paragraph explaining this project. "
   ]
  },
  {
   "cell_type": "markdown",
   "id": "14c24685-3122-4b0f-9286-148587be3b3a",
   "metadata": {},
   "source": [
    "import libraries:"
   ]
  },
  {
   "cell_type": "code",
   "execution_count": 2,
   "id": "1e6a113b-f059-4bb5-81de-5ce02c63fff9",
   "metadata": {},
   "outputs": [],
   "source": [
    "import pandas as pd "
   ]
  },
  {
   "cell_type": "markdown",
   "id": "7db1f77f-693f-494b-a71e-feaffd15e583",
   "metadata": {},
   "source": [
    "<br>"
   ]
  },
  {
   "cell_type": "markdown",
   "id": "41797f6a-e48b-4c23-9e19-060a787418bc",
   "metadata": {},
   "source": [
    "load data: "
   ]
  },
  {
   "cell_type": "code",
   "execution_count": 5,
   "id": "8d885990-4c52-4472-858a-e453e6f46143",
   "metadata": {},
   "outputs": [],
   "source": [
    "# code to read csv file"
   ]
  }
 ],
 "metadata": {
  "kernelspec": {
   "display_name": "Python 3 (ipykernel)",
   "language": "python",
   "name": "python3"
  },
  "language_info": {
   "codemirror_mode": {
    "name": "ipython",
    "version": 3
   },
   "file_extension": ".py",
   "mimetype": "text/x-python",
   "name": "python",
   "nbconvert_exporter": "python",
   "pygments_lexer": "ipython3",
   "version": "3.11.5"
  }
 },
 "nbformat": 4,
 "nbformat_minor": 5
}
